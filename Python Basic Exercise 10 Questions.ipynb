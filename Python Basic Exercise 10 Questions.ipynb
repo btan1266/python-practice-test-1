{
 "cells": [
  {
   "cell_type": "markdown",
   "metadata": {},
   "source": [
    "### Python Basic Programming Exercise"
   ]
  },
  {
   "cell_type": "code",
   "execution_count": null,
   "metadata": {
    "collapsed": true
   },
   "outputs": [],
   "source": [
    "#1: Write a program which will find all such numbers which are divisible by 7 but are not a multiple of 5, between 2000 and 3200 (both included).\n",
    "#The numbers obtained should be printed in a comma-separated sequence on a single line.\n",
    "\n",
    "#Hints: Consider use range(#begin, #end) method\n"
   ]
  },
  {
   "cell_type": "code",
   "execution_count": null,
   "metadata": {
    "collapsed": true
   },
   "outputs": [],
   "source": [
    "l1=range(2000,3201)\n",
    "\n",
    "for x in l1:\n",
    "    if x%7==0 & x%5!=0:\n",
    "        print x"
   ]
  },
  {
   "cell_type": "code",
   "execution_count": null,
   "metadata": {
    "collapsed": true
   },
   "outputs": [],
   "source": [
    "#2. Write a program which can compute the factorial of a given numbers. The results should be printed in a comma-separated sequence on a single line. \n",
    "#raw_input() function can be used for getting user(console) input\n",
    "\n",
    "#Suppose the input is supplied to the program:  8  \n",
    "#Then, the output should be:  40320 \n",
    "#Hints: In case of input data being supplied to the question, it should be assumed to be a console input. \n"
   ]
  },
  {
   "cell_type": "code",
   "execution_count": 3,
   "metadata": {},
   "outputs": [
    {
     "name": "stdout",
     "output_type": "stream",
     "text": [
      "Pls enter a integer :8\n",
      "40320\n"
     ]
    }
   ],
   "source": [
    "x=input(\"Pls enter a integer :\")\n",
    "vR=range(1,x+1)\n",
    "y=1\n",
    "for i in vR:\n",
    "    y=y*i\n",
    "print y"
   ]
  },
  {
   "cell_type": "code",
   "execution_count": null,
   "metadata": {
    "collapsed": true
   },
   "outputs": [],
   "source": [
    "#3. With a given integral number n, write a program to generate a dictionary that contains (i, i*i) such that is an integral number between 1 and n (both included). and then the program should print the dictionary.\n",
    "#Suppose the following input is supplied to the program: 8\n",
    "#Then, the output should be: {1: 1, 2: 4, 3: 9, 4: 16, 5: 25, 6: 36, 7: 49, 8: 64}\n",
    "#Hints: In case of input data being supplied to the question, it should be assumed to be a console input. Consider use dict()\n",
    "\n"
   ]
  },
  {
   "cell_type": "code",
   "execution_count": 9,
   "metadata": {},
   "outputs": [
    {
     "name": "stdout",
     "output_type": "stream",
     "text": [
      "Pls enter a number:8\n",
      "{1: 1, 2: 4, 3: 9, 4: 16, 5: 25, 6: 36, 7: 49, 8: 64}\n"
     ]
    }
   ],
   "source": [
    "x = input(\"Pls enter a number:\")\n",
    "vR = range(1,x+1)\n",
    "vD = {}\n",
    "for i in vR:\n",
    "    vD[i]= i*i \n",
    "print vD"
   ]
  },
  {
   "cell_type": "code",
   "execution_count": null,
   "metadata": {
    "collapsed": true
   },
   "outputs": [],
   "source": [
    "#4. Write a program which accepts a sequence of comma-separated numbers from console and generate a list and a tuple which contains every number.\n",
    "#Suppose the following input is supplied to the program: 34,67,55,33,12,98\n",
    "#Then, the output should be: ['34', '67', '55', '33', '12', '98'] ('34', '67', '55', '33', '12', '98')\n",
    "\n",
    "#Hints: In case of input data being supplied to the question, it should be assumed to be a console input. tuple() method can convert list to tuple\n"
   ]
  },
  {
   "cell_type": "code",
   "execution_count": 13,
   "metadata": {},
   "outputs": [
    {
     "name": "stdout",
     "output_type": "stream",
     "text": [
      "Enter source\n",
      "12,3,34,345,56,56\n",
      "(12, 3, 34, 345, 56, 56)\n",
      "[12, 3, 34, 345, 56, 56]\n"
     ]
    }
   ],
   "source": [
    "print 'Enter source'\n",
    "vT = tuple(map(int,raw_input().split(',')))\n",
    "vL = list(vT)\n",
    "print vT\n",
    "print vL"
   ]
  },
  {
   "cell_type": "code",
   "execution_count": null,
   "metadata": {
    "collapsed": true
   },
   "outputs": [],
   "source": [
    "#5. Define a class which has at least two methods: getString: to get a string from console input and \n",
    "#printString: to print the string in upper case. Also please include simple test function to test the class methods.\n",
    "\n",
    "#Hints: Use __init__ method to construct some parameters\n"
   ]
  },
  {
   "cell_type": "code",
   "execution_count": 2,
   "metadata": {},
   "outputs": [],
   "source": [
    "class iostring:\n",
    "    def _init_(self):\n",
    "        self.s=\"\"\n",
    "    def getString(self):\n",
    "        self.s=raw_input()\n",
    "    def printString(self):\n",
    "        print self.s.upper()"
   ]
  },
  {
   "cell_type": "code",
   "execution_count": 3,
   "metadata": {},
   "outputs": [
    {
     "name": "stdout",
     "output_type": "stream",
     "text": [
      "Nice cool weather today !\n"
     ]
    }
   ],
   "source": [
    "newobj = iostring()\n",
    "newobj.getString()"
   ]
  },
  {
   "cell_type": "code",
   "execution_count": 4,
   "metadata": {},
   "outputs": [
    {
     "name": "stdout",
     "output_type": "stream",
     "text": [
      "NICE COOL WEATHER TODAY !\n"
     ]
    }
   ],
   "source": [
    "newobj.printString()"
   ]
  },
  {
   "cell_type": "code",
   "execution_count": null,
   "metadata": {
    "collapsed": true
   },
   "outputs": [],
   "source": [
    "#6. Write a program that accepts a comma separated sequence of words as input and prints the words in a comma-separated sequence after sorting them alphabetically.\n",
    "# Suppose the following input is supplied to the program: without,hello,bag,world\n",
    "# Then, the output should be: bag,hello,without,world\n",
    "\n",
    "#Hints: In case of input data being supplied to the question, it should be assumed to be a console input.\n"
   ]
  },
  {
   "cell_type": "code",
   "execution_count": 5,
   "metadata": {},
   "outputs": [],
   "source": [
    "class iostring:\n",
    "    def _init_(self):\n",
    "        self.s=\"\"\n",
    "    def getString(self):\n",
    "        self.s=raw_input()   \n",
    "    def printString(self):  \n",
    "        print self.s\n",
    "    def sortString(self):\n",
    "        vL = list(map(str,self.s.split(',')))\n",
    "        vL.sort()\n",
    "       # vR = range(1,len(vL)+1)\n",
    "       # vD = dict(zip(vR, vL))\n",
    "        self.s = ', '.join(vL)\n",
    "    def removeDuplicate(self):\n",
    "        vL = list(map(str,self.s.split(' ')))\n",
    "        vS = set(vL)\n",
    "        vL = list(vS)\n",
    "        vL.sort()\n",
    "        self.s = ' '.join(vL) \n",
    "    def findCase(self):\n",
    "        vL = list(self.s)\n",
    "        print vL\n",
    "        l_cnt = 0\n",
    "        u_cnt = 0\n",
    "        for i in vL:\n",
    "            if i.isupper():\n",
    "                u_cnt = u_cnt+1\n",
    "            else:\n",
    "                l_cnt = l_cnt+1\n",
    "           \n",
    "        print ('the uppercase count is {0} and lowercase count is {1}'.format(u_cnt,l_cnt))\n",
    "            \n",
    "     \n",
    "            \n",
    "        \n",
    "    \n",
    "        \n",
    "    \n",
    "    "
   ]
  },
  {
   "cell_type": "code",
   "execution_count": 6,
   "metadata": {},
   "outputs": [
    {
     "name": "stdout",
     "output_type": "stream",
     "text": [
      "ABCD, Night, Right, Lever, Zone\n"
     ]
    }
   ],
   "source": [
    "vObj = iostring()\n",
    "vObj.getString()"
   ]
  },
  {
   "cell_type": "code",
   "execution_count": 9,
   "metadata": {},
   "outputs": [
    {
     "name": "stdout",
     "output_type": "stream",
     "text": [
      "Right,Zen, Yeast,Full, Big\n",
      " Big,  Yeast, Full, Right, Zen\n"
     ]
    }
   ],
   "source": [
    "vObj = iostring()\n",
    "vObj.getString()\n",
    "vObj.sortString()\n",
    "vObj.printString()\n"
   ]
  },
  {
   "cell_type": "code",
   "execution_count": 17,
   "metadata": {},
   "outputs": [],
   "source": [
    "#7. Write a program that accepts a sequence of whitespace separated words as input and prints the words after removing all duplicate words and sorting them alphanumerically.\n",
    "# Suppose the following input is supplied to the program: hello world and practice makes perfect and hello world again\n",
    "# Then, the output should be: again and hello makes perfect practice world\n",
    "\n",
    "#Hints: In case of input data being supplied to the question, it should be assumed to be a console input.\n",
    "#We use set container to remove duplicated data automatically and then use sorted() to sort the data.\n"
   ]
  },
  {
   "cell_type": "code",
   "execution_count": 4,
   "metadata": {},
   "outputs": [
    {
     "name": "stdout",
     "output_type": "stream",
     "text": [
      "poiu wer mkk poiu\n",
      "mkk poiu wer\n"
     ]
    }
   ],
   "source": [
    "vObj = iostring()\n",
    "vObj.getString()\n",
    "vObj.removeDuplicate()\n",
    "vObj.printString()"
   ]
  },
  {
   "cell_type": "code",
   "execution_count": null,
   "metadata": {
    "collapsed": true
   },
   "outputs": [],
   "source": [
    "#8. Write a program that accepts a sentence and calculate the number of upper case letters and lower case letters.\n",
    "#Suppose the following input is supplied to the program: Hello world!\n",
    "#Then, the output should be: UPPER CASE 1 LOWER CASE 9\n",
    "\n",
    "#Hints: In case of input data being supplied to the question, it should be assumed to be a console input.\n"
   ]
  },
  {
   "cell_type": "code",
   "execution_count": 10,
   "metadata": {},
   "outputs": [
    {
     "name": "stdout",
     "output_type": "stream",
     "text": [
      "The Quick BrowN Fox Jumps over the Lazy dOg\n",
      "['T', 'h', 'e', ' ', 'Q', 'u', 'i', 'c', 'k', ' ', 'B', 'r', 'o', 'w', 'N', ' ', 'F', 'o', 'x', ' ', 'J', 'u', 'm', 'p', 's', ' ', 'o', 'v', 'e', 'r', ' ', 't', 'h', 'e', ' ', 'L', 'a', 'z', 'y', ' ', 'd', 'O', 'g']\n",
      "the uppercase count is 8 and lowercase count is 35\n"
     ]
    }
   ],
   "source": [
    "vObj = iostring()\n",
    "vObj.getString()\n",
    "vObj.findCase()"
   ]
  },
  {
   "cell_type": "code",
   "execution_count": null,
   "metadata": {
    "collapsed": true
   },
   "outputs": [],
   "source": [
    "#9. A website requires the users to input username and password to register. Write a program to check the validity of password\n",
    "#input by users. Following are the criteria for checking the password:\n",
    "#1. At least 1 letter between [a-z]\n",
    "#2. At least 1 number between [0-9]\n",
    "#1. At least 1 letter between [A-Z]\n",
    "#3. At least 1 character from [$#@]\n",
    "#4. Minimum length of transaction password: 6\n",
    "#5. Maximum length of transaction password: 12\n",
    "#Your program should accept a sequence of comma separated passwords and will check them according to the above criteria. \n",
    "#Passwords that match the criteria are to be printed, each separated by a comma.\n",
    "#Example. If the following passwords are given as input to the program: ABd1234@1,a F1#,2w3E*,2We3345\n",
    "#Then, the output of the program should be: ABd1234@1\n",
    "\n",
    "# You can use module called re\n",
    "#Hints: In case of input data being supplied to the question, it should be assumed to be a console input.\n",
    "\n"
   ]
  },
  {
   "cell_type": "code",
   "execution_count": 11,
   "metadata": {},
   "outputs": [],
   "source": [
    "import re\n",
    "\n",
    "class checkpass:\n",
    "        def _init_(self) :\n",
    "            self.s = \"\"\n",
    "        def getinput(self):\n",
    "            self.s = raw_input()\n",
    "        def chkpass(self):\n",
    "            \"\"\"  Checks for Password Correctness .\n",
    "                 1. pass word contains at least one lowercase charcter\n",
    "                 2. contains at least one uppercase character\n",
    "                 3. contains at least one digit\n",
    "                 4. contains at least one of $#@ character\n",
    "                 5. length between  6 and 12\n",
    "                 \n",
    "            \"\"\"\n",
    "            vL = list(map(str,self.s.split(',')))              \n",
    "            for i in vL:\n",
    "                p1 = re.search(r'(.*[a-z].*)', i)\n",
    "                p2 = re.search(r'(.*[A-Z].*)', i)\n",
    "                p3 = re.search(r'(.*\\d.*)', i)\n",
    "                p4 = re.search(r'(.*[$#@].*)', i)\n",
    "                p5 = len(i)\n",
    "                print p1\n",
    "                print p2\n",
    "                print p3\n",
    "                print p4\n",
    "                print p5\n",
    "                if p1 != None and p2 != None and p3 != None and p4 != None and p5 > 6 and p5 < 12 :\n",
    "                    print ('{0} : Password Pass'.format(i))\n",
    "                else:\n",
    "                    print ('{0} : Password Fail'.format(i))\n",
    "                \n",
    "\n",
    "\n",
    "           \n",
    "        "
   ]
  },
  {
   "cell_type": "code",
   "execution_count": 105,
   "metadata": {},
   "outputs": [
    {
     "name": "stdout",
     "output_type": "stream",
     "text": [
      "wqer,wer@123,Asdf@$1234\n",
      "<_sre.SRE_Match object at 0x000000000558EB70>\n",
      "None\n",
      "None\n",
      "None\n",
      "4\n",
      "wqer : Password Fail\n",
      "<_sre.SRE_Match object at 0x000000000558EE40>\n",
      "None\n",
      "<_sre.SRE_Match object at 0x000000000558EB70>\n",
      "<_sre.SRE_Match object at 0x000000000558ECD8>\n",
      "7\n",
      "wer@123 : Password Fail\n",
      "<_sre.SRE_Match object at 0x000000000558ED50>\n",
      "<_sre.SRE_Match object at 0x000000000558EE40>\n",
      "<_sre.SRE_Match object at 0x000000000558EBE8>\n",
      "<_sre.SRE_Match object at 0x000000000558EB70>\n",
      "10\n",
      "Asdf@$1234 : Password Pass\n"
     ]
    }
   ],
   "source": [
    "vpass = checkpass()\n",
    "vpass.getinput()\n",
    "vpass.chkpass()"
   ]
  },
  {
   "cell_type": "code",
   "execution_count": 84,
   "metadata": {},
   "outputs": [],
   "source": [
    "#10. Python has many built-in functions, and if you do not know how to use it, you can read document online or find some books.\n",
    "#But Python has a built-in document function for every built-in functions.\n",
    "#Please write a program to print some Python built-in functions documents, such as abs(), int(), raw_input()\n",
    "#And add document for your own function\n",
    "    \n",
    "#Hints: The built-in document method is __doc__\n"
   ]
  },
  {
   "cell_type": "code",
   "execution_count": 110,
   "metadata": {},
   "outputs": [
    {
     "name": "stdout",
     "output_type": "stream",
     "text": [
      "abs(number) -> number\n",
      "\n",
      "Return the absolute value of the argument.\n"
     ]
    }
   ],
   "source": [
    "print (abs.__doc__)\n"
   ]
  },
  {
   "cell_type": "code",
   "execution_count": 109,
   "metadata": {},
   "outputs": [
    {
     "name": "stdout",
     "output_type": "stream",
     "text": [
      "int(x=0) -> int or long\n",
      "int(x, base=10) -> int or long\n",
      "\n",
      "Convert a number or string to an integer, or return 0 if no arguments\n",
      "are given.  If x is floating point, the conversion truncates towards zero.\n",
      "If x is outside the integer range, the function returns a long instead.\n",
      "\n",
      "If x is not a number or if base is given, then x must be a string or\n",
      "Unicode object representing an integer literal in the given base.  The\n",
      "literal can be preceded by '+' or '-' and be surrounded by whitespace.\n",
      "The base defaults to 10.  Valid bases are 0 and 2-36.  Base 0 means to\n",
      "interpret the base from the string as an integer literal.\n",
      ">>> int('0b100', base=0)\n",
      "4\n"
     ]
    }
   ],
   "source": [
    "print (int.__doc__)"
   ]
  },
  {
   "cell_type": "code",
   "execution_count": 111,
   "metadata": {},
   "outputs": [
    {
     "name": "stdout",
     "output_type": "stream",
     "text": [
      "  Checks for Password Correctness .\n",
      "                 1. pass word contains at least one lowercase charcter\n",
      "                 2. contains at least one uppercase character\n",
      "                 3. contains at least one digit\n",
      "                 4. contains at least one of $#@ character\n",
      "                 5. length between  6 and 12\n",
      "                 \n",
      "            \n"
     ]
    }
   ],
   "source": [
    "print(checkpass.chkpass.__doc__)"
   ]
  }
 ],
 "metadata": {
  "kernelspec": {
   "display_name": "Python 2",
   "language": "python",
   "name": "python2"
  },
  "language_info": {
   "codemirror_mode": {
    "name": "ipython",
    "version": 2
   },
   "file_extension": ".py",
   "mimetype": "text/x-python",
   "name": "python",
   "nbconvert_exporter": "python",
   "pygments_lexer": "ipython2",
   "version": "2.7.15"
  }
 },
 "nbformat": 4,
 "nbformat_minor": 2
}
